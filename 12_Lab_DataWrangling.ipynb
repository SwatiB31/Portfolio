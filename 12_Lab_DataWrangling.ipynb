{
 "cells": [
  {
   "cell_type": "markdown",
   "metadata": {},
   "source": [
    "<p style=\"text-align:center\">\n",
    "    <a href=\"https://skills.network\" target=\"_blank\">\n",
    "    <img src=\"https://cf-courses-data.s3.us.cloud-object-storage.appdomain.cloud/assets/logos/SN_web_lightmode.png\" width=\"200\" alt=\"Skills Network Logo\"  />\n",
    "    </a>\n",
    "</p>\n"
   ]
  },
  {
   "cell_type": "markdown",
   "metadata": {},
   "source": [
    "# **Data Wrangling Lab**\n"
   ]
  },
  {
   "cell_type": "markdown",
   "metadata": {},
   "source": [
    "Estimated time needed: **45** minutes\n"
   ]
  },
  {
   "cell_type": "markdown",
   "metadata": {},
   "source": [
    "In this lab, you will perform data wrangling tasks to prepare raw data for analysis. Data wrangling involves cleaning, transforming, and organizing data into a structured format suitable for analysis. This lab focuses on tasks like identifying inconsistencies, encoding categorical variables, and feature transformation.\n"
   ]
  },
  {
   "cell_type": "markdown",
   "metadata": {},
   "source": [
    "## Objectives\n"
   ]
  },
  {
   "cell_type": "markdown",
   "metadata": {},
   "source": [
    "After completing this lab, you will be able to:\n"
   ]
  },
  {
   "cell_type": "markdown",
   "metadata": {},
   "source": [
    "- Identify and remove inconsistent data entries.\n",
    "\n",
    "- Encode categorical variables for analysis.\n",
    "\n",
    "- Handle missing values using multiple imputation strategies.\n",
    "\n",
    "- Apply feature scaling and transformation techniques.\n"
   ]
  },
  {
   "cell_type": "markdown",
   "metadata": {},
   "source": [
    "#### Intsall the required libraries\n"
   ]
  },
  {
   "cell_type": "code",
   "execution_count": 3,
   "metadata": {},
   "outputs": [
    {
     "name": "stdout",
     "output_type": "stream",
     "text": [
      "Collecting pandas\n",
      "  Downloading pandas-2.3.0-cp312-cp312-manylinux_2_17_x86_64.manylinux2014_x86_64.whl.metadata (91 kB)\n",
      "Collecting numpy>=1.26.0 (from pandas)\n",
      "  Downloading numpy-2.3.0-cp312-cp312-manylinux_2_28_x86_64.whl.metadata (62 kB)\n",
      "Requirement already satisfied: python-dateutil>=2.8.2 in /opt/conda/lib/python3.12/site-packages (from pandas) (2.9.0.post0)\n",
      "Requirement already satisfied: pytz>=2020.1 in /opt/conda/lib/python3.12/site-packages (from pandas) (2024.2)\n",
      "Collecting tzdata>=2022.7 (from pandas)\n",
      "  Downloading tzdata-2025.2-py2.py3-none-any.whl.metadata (1.4 kB)\n",
      "Requirement already satisfied: six>=1.5 in /opt/conda/lib/python3.12/site-packages (from python-dateutil>=2.8.2->pandas) (1.17.0)\n",
      "Downloading pandas-2.3.0-cp312-cp312-manylinux_2_17_x86_64.manylinux2014_x86_64.whl (12.0 MB)\n",
      "\u001b[2K   \u001b[90m━━━━━━━━━━━━━━━━━━━━━━━━━━━━━━━━━━━━━━━━\u001b[0m \u001b[32m12.0/12.0 MB\u001b[0m \u001b[31m165.3 MB/s\u001b[0m eta \u001b[36m0:00:00\u001b[0m\n",
      "Downloading numpy-2.3.0-cp312-cp312-manylinux_2_28_x86_64.whl (16.6 MB)\n",
      "\u001b[2K   \u001b[90m━━━━━━━━━━━━━━━━━━━━━━━━━━━━━━━━━━━━━━━━\u001b[0m \u001b[32m16.6/16.6 MB\u001b[0m \u001b[31m183.4 MB/s\u001b[0m eta \u001b[36m0:00:00\u001b[0m\n",
      "\u001b[?25hDownloading tzdata-2025.2-py2.py3-none-any.whl (347 kB)\n",
      "Installing collected packages: tzdata, numpy, pandas\n",
      "Successfully installed numpy-2.3.0 pandas-2.3.0 tzdata-2025.2\n",
      "Collecting matplotlib\n",
      "  Downloading matplotlib-3.10.3-cp312-cp312-manylinux_2_17_x86_64.manylinux2014_x86_64.whl.metadata (11 kB)\n",
      "Collecting contourpy>=1.0.1 (from matplotlib)\n",
      "  Downloading contourpy-1.3.2-cp312-cp312-manylinux_2_17_x86_64.manylinux2014_x86_64.whl.metadata (5.5 kB)\n",
      "Collecting cycler>=0.10 (from matplotlib)\n",
      "  Downloading cycler-0.12.1-py3-none-any.whl.metadata (3.8 kB)\n",
      "Collecting fonttools>=4.22.0 (from matplotlib)\n",
      "  Downloading fonttools-4.58.2-cp312-cp312-manylinux_2_5_x86_64.manylinux1_x86_64.manylinux_2_17_x86_64.manylinux2014_x86_64.whl.metadata (106 kB)\n",
      "Collecting kiwisolver>=1.3.1 (from matplotlib)\n",
      "  Downloading kiwisolver-1.4.8-cp312-cp312-manylinux_2_17_x86_64.manylinux2014_x86_64.whl.metadata (6.2 kB)\n",
      "Requirement already satisfied: numpy>=1.23 in /opt/conda/lib/python3.12/site-packages (from matplotlib) (2.3.0)\n",
      "Requirement already satisfied: packaging>=20.0 in /opt/conda/lib/python3.12/site-packages (from matplotlib) (24.2)\n",
      "Collecting pillow>=8 (from matplotlib)\n",
      "  Downloading pillow-11.2.1-cp312-cp312-manylinux_2_28_x86_64.whl.metadata (8.9 kB)\n",
      "Collecting pyparsing>=2.3.1 (from matplotlib)\n",
      "  Downloading pyparsing-3.2.3-py3-none-any.whl.metadata (5.0 kB)\n",
      "Requirement already satisfied: python-dateutil>=2.7 in /opt/conda/lib/python3.12/site-packages (from matplotlib) (2.9.0.post0)\n",
      "Requirement already satisfied: six>=1.5 in /opt/conda/lib/python3.12/site-packages (from python-dateutil>=2.7->matplotlib) (1.17.0)\n",
      "Downloading matplotlib-3.10.3-cp312-cp312-manylinux_2_17_x86_64.manylinux2014_x86_64.whl (8.6 MB)\n",
      "\u001b[2K   \u001b[90m━━━━━━━━━━━━━━━━━━━━━━━━━━━━━━━━━━━━━━━━\u001b[0m \u001b[32m8.6/8.6 MB\u001b[0m \u001b[31m136.9 MB/s\u001b[0m eta \u001b[36m0:00:00\u001b[0m\n",
      "\u001b[?25hDownloading contourpy-1.3.2-cp312-cp312-manylinux_2_17_x86_64.manylinux2014_x86_64.whl (323 kB)\n",
      "Downloading cycler-0.12.1-py3-none-any.whl (8.3 kB)\n",
      "Downloading fonttools-4.58.2-cp312-cp312-manylinux_2_5_x86_64.manylinux1_x86_64.manylinux_2_17_x86_64.manylinux2014_x86_64.whl (4.9 MB)\n",
      "\u001b[2K   \u001b[90m━━━━━━━━━━━━━━━━━━━━━━━━━━━━━━━━━━━━━━━━\u001b[0m \u001b[32m4.9/4.9 MB\u001b[0m \u001b[31m110.1 MB/s\u001b[0m eta \u001b[36m0:00:00\u001b[0m\n",
      "\u001b[?25hDownloading kiwisolver-1.4.8-cp312-cp312-manylinux_2_17_x86_64.manylinux2014_x86_64.whl (1.5 MB)\n",
      "\u001b[2K   \u001b[90m━━━━━━━━━━━━━━━━━━━━━━━━━━━━━━━━━━━━━━━━\u001b[0m \u001b[32m1.5/1.5 MB\u001b[0m \u001b[31m78.6 MB/s\u001b[0m eta \u001b[36m0:00:00\u001b[0m\n",
      "Downloading pillow-11.2.1-cp312-cp312-manylinux_2_28_x86_64.whl (4.6 MB)\n",
      "\u001b[2K   \u001b[90m━━━━━━━━━━━━━━━━━━━━━━━━━━━━━━━━━━━━━━━━\u001b[0m \u001b[32m4.6/4.6 MB\u001b[0m \u001b[31m105.9 MB/s\u001b[0m eta \u001b[36m0:00:00\u001b[0m\n",
      "Downloading pyparsing-3.2.3-py3-none-any.whl (111 kB)\n",
      "Installing collected packages: pyparsing, pillow, kiwisolver, fonttools, cycler, contourpy, matplotlib\n",
      "Successfully installed contourpy-1.3.2 cycler-0.12.1 fonttools-4.58.2 kiwisolver-1.4.8 matplotlib-3.10.3 pillow-11.2.1 pyparsing-3.2.3\n"
     ]
    }
   ],
   "source": [
    "!pip install pandas\n",
    "!pip install matplotlib"
   ]
  },
  {
   "cell_type": "markdown",
   "metadata": {},
   "source": [
    "## Tasks\n"
   ]
  },
  {
   "cell_type": "markdown",
   "metadata": {},
   "source": [
    "#### Step 1: Import the necessary module.\n"
   ]
  },
  {
   "cell_type": "markdown",
   "metadata": {},
   "source": [
    "### 1. Load the Dataset\n"
   ]
  },
  {
   "cell_type": "markdown",
   "metadata": {},
   "source": [
    "<h5>1.1 Import necessary libraries and load the dataset.</h5>\n"
   ]
  },
  {
   "cell_type": "markdown",
   "metadata": {},
   "source": [
    "Ensure the dataset is loaded correctly by displaying the first few rows.\n"
   ]
  },
  {
   "cell_type": "code",
   "execution_count": 4,
   "metadata": {},
   "outputs": [
    {
     "name": "stdout",
     "output_type": "stream",
     "text": [
      "   ResponseId                      MainBranch                 Age  \\\n",
      "0           1  I am a developer by profession  Under 18 years old   \n",
      "1           2  I am a developer by profession     35-44 years old   \n",
      "2           3  I am a developer by profession     45-54 years old   \n",
      "3           4           I am learning to code     18-24 years old   \n",
      "4           5  I am a developer by profession     18-24 years old   \n",
      "\n",
      "            Employment RemoteWork   Check  \\\n",
      "0  Employed, full-time     Remote  Apples   \n",
      "1  Employed, full-time     Remote  Apples   \n",
      "2  Employed, full-time     Remote  Apples   \n",
      "3   Student, full-time        NaN  Apples   \n",
      "4   Student, full-time        NaN  Apples   \n",
      "\n",
      "                                    CodingActivities  \\\n",
      "0                                              Hobby   \n",
      "1  Hobby;Contribute to open-source projects;Other...   \n",
      "2  Hobby;Contribute to open-source projects;Other...   \n",
      "3                                                NaN   \n",
      "4                                                NaN   \n",
      "\n",
      "                                             EdLevel  \\\n",
      "0                          Primary/elementary school   \n",
      "1       Bachelor’s degree (B.A., B.S., B.Eng., etc.)   \n",
      "2    Master’s degree (M.A., M.S., M.Eng., MBA, etc.)   \n",
      "3  Some college/university study without earning ...   \n",
      "4  Secondary school (e.g. American high school, G...   \n",
      "\n",
      "                                           LearnCode  \\\n",
      "0                             Books / Physical media   \n",
      "1  Books / Physical media;Colleague;On the job tr...   \n",
      "2  Books / Physical media;Colleague;On the job tr...   \n",
      "3  Other online resources (e.g., videos, blogs, f...   \n",
      "4  Other online resources (e.g., videos, blogs, f...   \n",
      "\n",
      "                                     LearnCodeOnline  ... JobSatPoints_6  \\\n",
      "0                                                NaN  ...            NaN   \n",
      "1  Technical documentation;Blogs;Books;Written Tu...  ...            0.0   \n",
      "2  Technical documentation;Blogs;Books;Written Tu...  ...            NaN   \n",
      "3  Stack Overflow;How-to videos;Interactive tutorial  ...            NaN   \n",
      "4  Technical documentation;Blogs;Written Tutorial...  ...            NaN   \n",
      "\n",
      "  JobSatPoints_7 JobSatPoints_8 JobSatPoints_9 JobSatPoints_10  \\\n",
      "0            NaN            NaN            NaN             NaN   \n",
      "1            0.0            0.0            0.0             0.0   \n",
      "2            NaN            NaN            NaN             NaN   \n",
      "3            NaN            NaN            NaN             NaN   \n",
      "4            NaN            NaN            NaN             NaN   \n",
      "\n",
      "  JobSatPoints_11           SurveyLength SurveyEase ConvertedCompYearly JobSat  \n",
      "0             NaN                    NaN        NaN                 NaN    NaN  \n",
      "1             0.0                    NaN        NaN                 NaN    NaN  \n",
      "2             NaN  Appropriate in length       Easy                 NaN    NaN  \n",
      "3             NaN               Too long       Easy                 NaN    NaN  \n",
      "4             NaN              Too short       Easy                 NaN    NaN  \n",
      "\n",
      "[5 rows x 114 columns]\n"
     ]
    }
   ],
   "source": [
    "# Import necessary libraries\n",
    "import pandas as pd\n",
    "\n",
    "# Load the Stack Overflow survey data\n",
    "dataset_url = \"https://cf-courses-data.s3.us.cloud-object-storage.appdomain.cloud/n01PQ9pSmiRX6520flujwQ/survey-data.csv\"\n",
    "df = pd.read_csv(dataset_url)\n",
    "\n",
    "# Display the first few rows\n",
    "print(df.head())\n"
   ]
  },
  {
   "cell_type": "markdown",
   "metadata": {},
   "source": [
    "#### 2. Explore the Dataset\n"
   ]
  },
  {
   "cell_type": "markdown",
   "metadata": {},
   "source": [
    "<h5>2.1 Summarize the dataset by displaying the column data types, counts, and missing values.</h5>\n"
   ]
  },
  {
   "cell_type": "code",
   "execution_count": 5,
   "metadata": {},
   "outputs": [
    {
     "name": "stdout",
     "output_type": "stream",
     "text": [
      "Data Types & Non-null Counts:\n",
      "<class 'pandas.core.frame.DataFrame'>\n",
      "RangeIndex: 65437 entries, 0 to 65436\n",
      "Columns: 114 entries, ResponseId to JobSat\n",
      "dtypes: float64(13), int64(1), object(100)\n",
      "memory usage: 56.9+ MB\n",
      "None\n",
      "\n",
      " Missing Values in Each Column:\n",
      "ResponseId                 0\n",
      "MainBranch                 0\n",
      "Age                        0\n",
      "Employment                 0\n",
      "RemoteWork             10631\n",
      "                       ...  \n",
      "JobSatPoints_11        35992\n",
      "SurveyLength            9255\n",
      "SurveyEase              9199\n",
      "ConvertedCompYearly    42002\n",
      "JobSat                 36311\n",
      "Length: 114, dtype: int64\n"
     ]
    }
   ],
   "source": [
    "# Write your code here\n",
    "# Display column data types and non-null counts\n",
    "print(\"Data Types & Non-null Counts:\")\n",
    "print(df.info())\n",
    "\n",
    "# Display count of missing values per column\n",
    "print(\"\\n Missing Values in Each Column:\")\n",
    "print(df.isnull().sum())\n"
   ]
  },
  {
   "cell_type": "markdown",
   "metadata": {},
   "source": [
    "<h5>2.2 Generate basic statistics for numerical columns.</h5>\n"
   ]
  },
  {
   "cell_type": "code",
   "execution_count": 6,
   "metadata": {},
   "outputs": [
    {
     "name": "stdout",
     "output_type": "stream",
     "text": [
      "Basic Statistics for Numerical Columns:\n",
      "         ResponseId      CompTotal       WorkExp  JobSatPoints_1  \\\n",
      "count  65437.000000   3.374000e+04  29658.000000    29324.000000   \n",
      "mean   32719.000000  2.963841e+145     11.466957       18.581094   \n",
      "std    18890.179119  5.444117e+147      9.168709       25.966221   \n",
      "min        1.000000   0.000000e+00      0.000000        0.000000   \n",
      "25%    16360.000000   6.000000e+04      4.000000        0.000000   \n",
      "50%    32719.000000   1.100000e+05      9.000000       10.000000   \n",
      "75%    49078.000000   2.500000e+05     16.000000       22.000000   \n",
      "max    65437.000000  1.000000e+150     50.000000      100.000000   \n",
      "\n",
      "       JobSatPoints_4  JobSatPoints_5  JobSatPoints_6  JobSatPoints_7  \\\n",
      "count    29393.000000    29411.000000    29450.000000     29448.00000   \n",
      "mean         7.522140       10.060857       24.343232        22.96522   \n",
      "std         18.422661       21.833836       27.089360        27.01774   \n",
      "min          0.000000        0.000000        0.000000         0.00000   \n",
      "25%          0.000000        0.000000        0.000000         0.00000   \n",
      "50%          0.000000        0.000000       20.000000        15.00000   \n",
      "75%          5.000000       10.000000       30.000000        30.00000   \n",
      "max        100.000000      100.000000      100.000000       100.00000   \n",
      "\n",
      "       JobSatPoints_8  JobSatPoints_9  JobSatPoints_10  JobSatPoints_11  \\\n",
      "count    29456.000000    29456.000000     29450.000000     29445.000000   \n",
      "mean        20.278165       16.169432        10.955713         9.953948   \n",
      "std         26.108110       24.845032        22.906263        21.775652   \n",
      "min          0.000000        0.000000         0.000000         0.000000   \n",
      "25%          0.000000        0.000000         0.000000         0.000000   \n",
      "50%         10.000000        5.000000         0.000000         0.000000   \n",
      "75%         25.000000       20.000000        10.000000        10.000000   \n",
      "max        100.000000      100.000000       100.000000       100.000000   \n",
      "\n",
      "       ConvertedCompYearly        JobSat  \n",
      "count         2.343500e+04  29126.000000  \n",
      "mean          8.615529e+04      6.935041  \n",
      "std           1.867570e+05      2.088259  \n",
      "min           1.000000e+00      0.000000  \n",
      "25%           3.271200e+04      6.000000  \n",
      "50%           6.500000e+04      7.000000  \n",
      "75%           1.079715e+05      8.000000  \n",
      "max           1.625660e+07     10.000000  \n"
     ]
    }
   ],
   "source": [
    "# Write your code here\n",
    "# Generate summary statistics for numerical columns\n",
    "print(\"Basic Statistics for Numerical Columns:\")\n",
    "print(df.describe())\n"
   ]
  },
  {
   "cell_type": "markdown",
   "metadata": {},
   "source": [
    "### 3. Identifying and Removing Inconsistencies\n"
   ]
  },
  {
   "cell_type": "markdown",
   "metadata": {},
   "source": [
    "<h5>3.1 Identify inconsistent or irrelevant entries in specific columns (e.g., Country).</h5>\n"
   ]
  },
  {
   "cell_type": "code",
   "execution_count": 7,
   "metadata": {},
   "outputs": [
    {
     "name": "stdout",
     "output_type": "stream",
     "text": [
      "Missing values in 'Country': 6507\n",
      "\n",
      " Top 30 Country values by frequency:\n",
      "Country\n",
      "United States of America                                11095\n",
      "NaN                                                      6507\n",
      "Germany                                                  4947\n",
      "India                                                    4231\n",
      "United Kingdom of Great Britain and Northern Ireland     3224\n",
      "Ukraine                                                  2672\n",
      "France                                                   2110\n",
      "Canada                                                   2104\n",
      "Poland                                                   1534\n",
      "Netherlands                                              1449\n",
      "Brazil                                                   1375\n",
      "Italy                                                    1341\n",
      "Australia                                                1260\n",
      "Spain                                                    1123\n",
      "Sweden                                                   1016\n",
      "Russian Federation                                        925\n",
      "Switzerland                                               876\n",
      "Austria                                                   791\n",
      "Czech Republic                                            714\n",
      "Israel                                                    604\n",
      "Turkey                                                    546\n",
      "Belgium                                                   526\n",
      "Denmark                                                   504\n",
      "Portugal                                                  470\n",
      "Norway                                                    450\n",
      "Romania                                                   439\n",
      "Pakistan                                                  415\n",
      "Iran, Islamic Republic of...                              411\n",
      "China                                                     406\n",
      "Mexico                                                    402\n",
      "Name: count, dtype: int64\n",
      "\n",
      " Potentially inconsistent/rare country values (appearing < 5 times):\n",
      "Country\n",
      "Lao People's Democratic Republic         4\n",
      "Liechtenstein                            4\n",
      "Fiji                                     4\n",
      "Gabon                                    4\n",
      "Bahamas                                  4\n",
      "Swaziland                                4\n",
      "Burkina Faso                             4\n",
      "Liberia                                  4\n",
      "Libyan Arab Jamahiriya                   4\n",
      "San Marino                               3\n",
      "Sierra Leone                             3\n",
      "Democratic Republic of the Congo         3\n",
      "Burundi                                  3\n",
      "Bhutan                                   3\n",
      "Monaco                                   3\n",
      "Guyana                                   3\n",
      "North Korea                              3\n",
      "Brunei Darussalam                        3\n",
      "Democratic People's Republic of Korea    2\n",
      "Mali                                     2\n",
      "Guinea-Bissau                            2\n",
      "Belize                                   2\n",
      "Dominica                                 1\n",
      "Papua New Guinea                         1\n",
      "Equatorial Guinea                        1\n",
      "Central African Republic                 1\n",
      "Samoa                                    1\n",
      "Niger                                    1\n",
      "Guinea                                   1\n",
      "Saint Kitts and Nevis                    1\n",
      "Lesotho                                  1\n",
      "Haiti                                    1\n",
      "Micronesia, Federated States of...       1\n",
      "Nauru                                    1\n",
      "Chad                                     1\n",
      "Djibouti                                 1\n",
      "Solomon Islands                          1\n",
      "Name: count, dtype: int64\n"
     ]
    }
   ],
   "source": [
    "# Write your code here\n",
    "# 1. Check missing values\n",
    "missing = df['Country'].isnull().sum()\n",
    "print(f\"Missing values in 'Country': {missing}\")\n",
    "\n",
    "# 2. Get unique entries and their frequencies\n",
    "print(\"\\n Top 30 Country values by frequency:\")\n",
    "print(df['Country'].value_counts(dropna=False).head(30))\n",
    "\n",
    "# 3. Optional: show rare or suspicious entries (e.g., < 5 responses)\n",
    "print(\"\\n Potentially inconsistent/rare country values (appearing < 5 times):\")\n",
    "print(df['Country'].value_counts()[df['Country'].value_counts() < 5])\n"
   ]
  },
  {
   "cell_type": "markdown",
   "metadata": {},
   "source": [
    "<h5>3.2 Standardize entries in columns like Country or EdLevel by mapping inconsistent values to a consistent format.</h5>\n"
   ]
  },
  {
   "cell_type": "code",
   "execution_count": 8,
   "metadata": {},
   "outputs": [
    {
     "name": "stdout",
     "output_type": "stream",
     "text": [
      "Cleaned unique Country values:\n",
      "['USA' 'UK' 'Canada' 'Norway' 'Uzbekistan' 'Serbia' 'Poland' 'Philippines'\n",
      " 'Bulgaria' 'Switzerland' 'India' 'Germany' 'Ireland' 'Italy' 'Ukraine'\n",
      " 'Australia' 'Brazil' 'Japan' 'Austria' 'Iran' 'France' 'Saudi Arabia'\n",
      " 'Romania' 'Turkey' 'Nepal' 'Algeria' 'Sweden' 'Netherlands' 'Croatia'\n",
      " 'Pakistan' 'Czech Republic' 'Republic of North Macedonia' 'Finland'\n",
      " 'Slovakia' 'Russia' 'Greece' 'Israel' 'Belgium' 'Mexico'\n",
      " 'United Republic of Tanzania' 'Hungary' 'Argentina' 'Portugal'\n",
      " 'Sri Lanka' 'Latvia' 'China' 'Singapore' 'Lebanon' 'Spain' 'South Africa'\n",
      " 'Lithuania' 'Vietnam' 'Dominican Republic' 'Indonesia' 'Kosovo' 'Morocco'\n",
      " 'Taiwan' 'Georgia' 'San Marino' 'Tunisia' 'Bangladesh' 'Nigeria'\n",
      " 'Liechtenstein' 'Denmark' 'Ecuador' 'Malaysia' 'Albania' 'Azerbaijan'\n",
      " 'Chile' 'Ghana' 'Peru' 'Bolivia' 'Egypt' 'Luxembourg' 'Montenegro'\n",
      " 'Cyprus' 'Paraguay' 'Kazakhstan' 'Slovenia' 'Jordan'\n",
      " 'Venezuela, Bolivarian Republic of...' 'Costa Rica' 'Jamaica' 'Thailand'\n",
      " 'Nicaragua' 'Myanmar' 'South Korea' 'Rwanda' 'Bosnia and Herzegovina'\n",
      " 'Benin' 'El Salvador' 'Zimbabwe' 'Afghanistan' 'Estonia' 'Malta'\n",
      " 'Uruguay' 'Belarus' 'Colombia' 'Republic of Moldova' 'Isle of Man'\n",
      " 'Nomadic' 'New Zealand' 'Palestine' 'Armenia' 'United Arab Emirates'\n",
      " 'Maldives' 'Ethiopia' 'Fiji' 'Guatemala' 'Uganda' 'Turkmenistan'\n",
      " 'Mauritius' 'Kenya' 'Cuba' 'Gabon' 'Bahamas' 'Iceland' 'Honduras'\n",
      " 'Hong Kong' \"Lao People's Democratic Republic\" 'Mongolia' 'Cambodia'\n",
      " 'Madagascar' 'Angola' 'Democratic Republic of the Congo'\n",
      " 'Syrian Arab Republic' 'Iraq' 'Namibia' 'Senegal' 'Kyrgyzstan' 'Zambia'\n",
      " 'Swaziland' \"Côte d'Ivoire\" 'Kuwait' 'Tajikistan' 'Burundi'\n",
      " 'Trinidad and Tobago' 'Mauritania' 'Sierra Leone' 'Panama' 'Somalia'\n",
      " 'North Korea' 'Dominica' 'Guyana' 'Togo' 'Oman' 'Barbados' 'Andorra'\n",
      " \"Democratic People's Republic of Korea\" 'Qatar' 'Sudan' 'Cameroon'\n",
      " 'Papua New Guinea' 'Bahrain' 'Yemen' 'Malawi' 'Burkina Faso'\n",
      " 'Congo, Republic of the...' 'Botswana' 'Guinea-Bissau' 'Mozambique'\n",
      " 'Central African Republic' 'Equatorial Guinea' 'Suriname' 'Belize'\n",
      " 'Libyan Arab Jamahiriya' 'Cape Verde' 'Brunei Darussalam' 'Bhutan'\n",
      " 'Guinea' 'Niger' 'Antigua and Barbuda' 'Mali' 'Samoa' 'Lesotho'\n",
      " 'Saint Kitts and Nevis' 'Monaco' 'Micronesia, Federated States of...'\n",
      " 'Haiti' nan 'Nauru' 'Liberia' 'Chad' 'Djibouti' 'Solomon Islands']\n",
      "\n",
      "Cleaned unique EdLevel values:\n",
      "['Primary School' 'Bachelor’s degree' 'Master’s degree' 'Some College'\n",
      " 'High School' 'Professional degree (JD, MD, Ph.D, Ed.D, etc.)'\n",
      " 'Associate degree' 'Something else' nan]\n"
     ]
    }
   ],
   "source": [
    "## Write your code here\n",
    "# --- STEP 1: Standardize Country entries ---\n",
    "country_mapping = {\n",
    "    'United States of America': 'USA',\n",
    "    'United Kingdom of Great Britain and Northern Ireland': 'UK',\n",
    "    'Russian Federation': 'Russia',\n",
    "    'Viet Nam': 'Vietnam',\n",
    "    'Iran, Islamic Republic of...': 'Iran',\n",
    "    'Hong Kong (S.A.R.)': 'Hong Kong',\n",
    "    'Republic of Korea': 'South Korea',\n",
    "    'Mainland China': 'China',\n",
    "    'Other Country (Not Listed Above)': 'Other'\n",
    "    # Add more mappings as needed\n",
    "}\n",
    "\n",
    "df['Country'] = df['Country'].replace(country_mapping)\n",
    "\n",
    "# --- STEP 2: Standardize EdLevel entries ---\n",
    "edlevel_mapping = {\n",
    "    'Bachelor’s degree (B.A., B.S., B.Eng., etc.)': 'Bachelor’s degree',\n",
    "    'Master’s degree (M.A., M.S., M.Eng., MBA, etc.)': 'Master’s degree',\n",
    "    'Doctoral degree (Ph.D., Ed.D., etc.)': 'Doctoral degree',\n",
    "    'Some college/university study without earning a degree': 'Some College',\n",
    "    'Associate degree (A.A., A.S., etc.)': 'Associate degree',\n",
    "    'Primary/elementary school': 'Primary School',\n",
    "    'Secondary school (e.g. American high school, German Realschule or Gymnasium, etc.)': 'High School',\n",
    "    'Professional degree (JD, MD, etc.)': 'Professional degree'\n",
    "    # Add more if needed\n",
    "}\n",
    "\n",
    "df['EdLevel'] = df['EdLevel'].replace(edlevel_mapping)\n",
    "\n",
    "# Preview the cleaned data\n",
    "print(\"Cleaned unique Country values:\")\n",
    "print(df['Country'].unique())\n",
    "\n",
    "print(\"\\nCleaned unique EdLevel values:\")\n",
    "print(df['EdLevel'].unique())"
   ]
  },
  {
   "cell_type": "markdown",
   "metadata": {},
   "source": [
    "### 4. Encoding Categorical Variables\n"
   ]
  },
  {
   "cell_type": "markdown",
   "metadata": {},
   "source": [
    "<h5>4.1 Encode the Employment column using one-hot encoding.</h5>\n"
   ]
  },
  {
   "cell_type": "code",
   "execution_count": 9,
   "metadata": {},
   "outputs": [
    {
     "name": "stdout",
     "output_type": "stream",
     "text": [
      "One-hot encoded Employment column:\n",
      "   Employment_Employed, full-time  \\\n",
      "0                            True   \n",
      "1                            True   \n",
      "2                            True   \n",
      "3                           False   \n",
      "4                           False   \n",
      "\n",
      "   Employment_Employed, full-time;Employed, part-time  \\\n",
      "0                                              False    \n",
      "1                                              False    \n",
      "2                                              False    \n",
      "3                                              False    \n",
      "4                                              False    \n",
      "\n",
      "   Employment_Employed, full-time;Independent contractor, freelancer, or self-employed  \\\n",
      "0                                              False                                     \n",
      "1                                              False                                     \n",
      "2                                              False                                     \n",
      "3                                              False                                     \n",
      "4                                              False                                     \n",
      "\n",
      "   Employment_Employed, full-time;Independent contractor, freelancer, or self-employed;Employed, part-time  \\\n",
      "0                                              False                                                         \n",
      "1                                              False                                                         \n",
      "2                                              False                                                         \n",
      "3                                              False                                                         \n",
      "4                                              False                                                         \n",
      "\n",
      "   Employment_Employed, full-time;Independent contractor, freelancer, or self-employed;Employed, part-time;Retired  \\\n",
      "0                                              False                                                                 \n",
      "1                                              False                                                                 \n",
      "2                                              False                                                                 \n",
      "3                                              False                                                                 \n",
      "4                                              False                                                                 \n",
      "\n",
      "   Employment_Employed, full-time;Independent contractor, freelancer, or self-employed;Not employed, and not looking for work  \\\n",
      "0                                              False                                                                            \n",
      "1                                              False                                                                            \n",
      "2                                              False                                                                            \n",
      "3                                              False                                                                            \n",
      "4                                              False                                                                            \n",
      "\n",
      "   Employment_Employed, full-time;Independent contractor, freelancer, or self-employed;Not employed, and not looking for work;Employed, part-time  \\\n",
      "0                                              False                                                                                                \n",
      "1                                              False                                                                                                \n",
      "2                                              False                                                                                                \n",
      "3                                              False                                                                                                \n",
      "4                                              False                                                                                                \n",
      "\n",
      "   Employment_Employed, full-time;Independent contractor, freelancer, or self-employed;Not employed, and not looking for work;Student, part-time  \\\n",
      "0                                              False                                                                                               \n",
      "1                                              False                                                                                               \n",
      "2                                              False                                                                                               \n",
      "3                                              False                                                                                               \n",
      "4                                              False                                                                                               \n",
      "\n",
      "   Employment_Employed, full-time;Independent contractor, freelancer, or self-employed;Retired  \\\n",
      "0                                              False                                             \n",
      "1                                              False                                             \n",
      "2                                              False                                             \n",
      "3                                              False                                             \n",
      "4                                              False                                             \n",
      "\n",
      "   Employment_Employed, full-time;Independent contractor, freelancer, or self-employed;Student, part-time  \\\n",
      "0                                              False                                                        \n",
      "1                                              False                                                        \n",
      "2                                              False                                                        \n",
      "3                                              False                                                        \n",
      "4                                              False                                                        \n",
      "\n",
      "   ...  \\\n",
      "0  ...   \n",
      "1  ...   \n",
      "2  ...   \n",
      "3  ...   \n",
      "4  ...   \n",
      "\n",
      "   Employment_Student, full-time;Not employed, but looking for work;Not employed, and not looking for work;Student, part-time  \\\n",
      "0                                              False                                                                            \n",
      "1                                              False                                                                            \n",
      "2                                              False                                                                            \n",
      "3                                              False                                                                            \n",
      "4                                              False                                                                            \n",
      "\n",
      "   Employment_Student, full-time;Not employed, but looking for work;Retired  \\\n",
      "0                                              False                          \n",
      "1                                              False                          \n",
      "2                                              False                          \n",
      "3                                              False                          \n",
      "4                                              False                          \n",
      "\n",
      "   Employment_Student, full-time;Not employed, but looking for work;Student, part-time  \\\n",
      "0                                              False                                     \n",
      "1                                              False                                     \n",
      "2                                              False                                     \n",
      "3                                              False                                     \n",
      "4                                              False                                     \n",
      "\n",
      "   Employment_Student, full-time;Retired  \\\n",
      "0                                  False   \n",
      "1                                  False   \n",
      "2                                  False   \n",
      "3                                  False   \n",
      "4                                  False   \n",
      "\n",
      "   Employment_Student, full-time;Student, part-time  \\\n",
      "0                                             False   \n",
      "1                                             False   \n",
      "2                                             False   \n",
      "3                                             False   \n",
      "4                                             False   \n",
      "\n",
      "   Employment_Student, full-time;Student, part-time;Employed, part-time  \\\n",
      "0                                              False                      \n",
      "1                                              False                      \n",
      "2                                              False                      \n",
      "3                                              False                      \n",
      "4                                              False                      \n",
      "\n",
      "   Employment_Student, full-time;Student, part-time;Retired  \\\n",
      "0                                              False          \n",
      "1                                              False          \n",
      "2                                              False          \n",
      "3                                              False          \n",
      "4                                              False          \n",
      "\n",
      "   Employment_Student, part-time  \\\n",
      "0                          False   \n",
      "1                          False   \n",
      "2                          False   \n",
      "3                          False   \n",
      "4                          False   \n",
      "\n",
      "   Employment_Student, part-time;Employed, part-time  \\\n",
      "0                                              False   \n",
      "1                                              False   \n",
      "2                                              False   \n",
      "3                                              False   \n",
      "4                                              False   \n",
      "\n",
      "   Employment_Student, part-time;Retired  \n",
      "0                                  False  \n",
      "1                                  False  \n",
      "2                                  False  \n",
      "3                                  False  \n",
      "4                                  False  \n",
      "\n",
      "[5 rows x 110 columns]\n"
     ]
    }
   ],
   "source": [
    "## Write your code here\n",
    "# Check for missing values in Employment and fill with 'Unknown'\n",
    "df['Employment'] = df['Employment'].fillna('Unknown')\n",
    "\n",
    "# One-hot encode Employment column\n",
    "employment_encoded = pd.get_dummies(df['Employment'], prefix='Employment')\n",
    "\n",
    "# Join back with the original dataframe (optional: drop original column)\n",
    "df_encoded = pd.concat([df.drop('Employment', axis=1), employment_encoded], axis=1)\n",
    "\n",
    "# Show the first few rows\n",
    "print(\"One-hot encoded Employment column:\")\n",
    "print(df_encoded.filter(like='Employment_').head())\n"
   ]
  },
  {
   "cell_type": "markdown",
   "metadata": {},
   "source": [
    "### 5. Handling Missing Values\n"
   ]
  },
  {
   "cell_type": "markdown",
   "metadata": {},
   "source": [
    "<h5>5.1 Identify columns with the highest number of missing values.</h5>\n"
   ]
  },
  {
   "cell_type": "code",
   "execution_count": 10,
   "metadata": {},
   "outputs": [
    {
     "name": "stdout",
     "output_type": "stream",
     "text": [
      "Columns with the Most Missing Values:\n",
      "AINextMuch less integrated       64289\n",
      "AINextLess integrated            63082\n",
      "AINextNo change                  52939\n",
      "AINextMuch more integrated       51999\n",
      "EmbeddedAdmired                  48704\n",
      "EmbeddedWantToWorkWith           47837\n",
      "EmbeddedHaveWorkedWith           43223\n",
      "ConvertedCompYearly              42002\n",
      "AIToolNot interested in Using    41023\n",
      "AINextMore integrated            41009\n",
      "dtype: int64\n"
     ]
    }
   ],
   "source": [
    "## Write your code here\n",
    "# Count missing values in each column\n",
    "missing_counts = df.isnull().sum()\n",
    "\n",
    "# Sort by the number of missing values, descending\n",
    "missing_sorted = missing_counts.sort_values(ascending=False)\n",
    "\n",
    "# Display top columns with missing data\n",
    "print(\"Columns with the Most Missing Values:\")\n",
    "print(missing_sorted.head(10))  # You can change the number as needed\n"
   ]
  },
  {
   "cell_type": "markdown",
   "metadata": {},
   "source": [
    "<h5>5.2 Impute missing values in numerical columns (e.g., `ConvertedCompYearly`) with the mean or median.</h5>\n"
   ]
  },
  {
   "cell_type": "code",
   "execution_count": 11,
   "metadata": {},
   "outputs": [
    {
     "name": "stdout",
     "output_type": "stream",
     "text": [
      "Missing values in ConvertedCompYearly filled with mean: 86155.29\n"
     ]
    }
   ],
   "source": [
    "## Write your code here\n",
    "# Impute missing values in ConvertedCompYearly with the mean\n",
    "mean_value = df['ConvertedCompYearly'].mean()\n",
    "df['ConvertedCompYearly'] = df['ConvertedCompYearly'].fillna(mean_value)\n",
    "\n",
    "print(f\"Missing values in ConvertedCompYearly filled with mean: {mean_value:.2f}\")\n"
   ]
  },
  {
   "cell_type": "markdown",
   "metadata": {},
   "source": [
    "<h5>5.3 Impute missing values in categorical columns (e.g., `RemoteWork`) with the most frequent value.</h5>\n"
   ]
  },
  {
   "cell_type": "code",
   "execution_count": 12,
   "metadata": {},
   "outputs": [
    {
     "name": "stdout",
     "output_type": "stream",
     "text": [
      "Missing values in 'RemoteWork' have been filled with: 'Hybrid (some remote, some in-person)'\n"
     ]
    }
   ],
   "source": [
    "## Write your code here\n",
    "# Find the most frequent value (mode) in 'RemoteWork'\n",
    "most_frequent_value = df['RemoteWork'].mode()[0]\n",
    "\n",
    "# Fill missing values in 'RemoteWork' with the mode\n",
    "df['RemoteWork'] = df['RemoteWork'].fillna(most_frequent_value)\n",
    "\n",
    "print(f\"Missing values in 'RemoteWork' have been filled with: '{most_frequent_value}'\")\n"
   ]
  },
  {
   "cell_type": "markdown",
   "metadata": {},
   "source": [
    "### 6. Feature Scaling and Transformation\n"
   ]
  },
  {
   "cell_type": "markdown",
   "metadata": {},
   "source": [
    "<h5>6.1 Apply Min-Max Scaling to normalize the `ConvertedCompYearly` column.</h5>\n"
   ]
  },
  {
   "cell_type": "code",
   "execution_count": 13,
   "metadata": {},
   "outputs": [
    {
     "name": "stdout",
     "output_type": "stream",
     "text": [
      "Min-Max Scaling applied to 'ConvertedCompYearly':\n",
      "   ConvertedCompYearly  ConvertedCompYearly_MinMax\n",
      "0         86155.287263                      0.0053\n",
      "1         86155.287263                      0.0053\n",
      "2         86155.287263                      0.0053\n",
      "3         86155.287263                      0.0053\n",
      "4         86155.287263                      0.0053\n"
     ]
    }
   ],
   "source": [
    "## Write your code here\n",
    "# Drop rows where ConvertedCompYearly is missing\n",
    "df = df[df['ConvertedCompYearly'].notna()]\n",
    "\n",
    "# Apply Min-Max Scaling\n",
    "min_val = df['ConvertedCompYearly'].min()\n",
    "max_val = df['ConvertedCompYearly'].max()\n",
    "\n",
    "df['ConvertedCompYearly_MinMax'] = (df['ConvertedCompYearly'] - min_val) / (max_val - min_val)\n",
    "\n",
    "# Show result\n",
    "print(\"Min-Max Scaling applied to 'ConvertedCompYearly':\")\n",
    "print(df[['ConvertedCompYearly', 'ConvertedCompYearly_MinMax']].head())\n"
   ]
  },
  {
   "cell_type": "markdown",
   "metadata": {},
   "source": [
    "<h5>6.2 Log-transform the ConvertedCompYearly column to reduce skewness.</h5>\n"
   ]
  },
  {
   "cell_type": "code",
   "execution_count": 15,
   "metadata": {},
   "outputs": [
    {
     "name": "stdout",
     "output_type": "stream",
     "text": [
      "Log-transformation applied to 'ConvertedCompYearly':\n",
      "   ConvertedCompYearly  ConvertedCompYearly_Log\n",
      "0         86155.287263                11.363907\n",
      "1         86155.287263                11.363907\n",
      "2         86155.287263                11.363907\n",
      "3         86155.287263                11.363907\n",
      "4         86155.287263                11.363907\n"
     ]
    }
   ],
   "source": [
    "## Write your code here\n",
    "# Load dataset\n",
    "#dataset_url = \"https://cf-courses-data.s3.us.cloud-object-storage.appdomain.cloud/n01PQ9pSmiRX6520flujwQ/survey-data.csv\"\n",
    "#df = pd.read_csv(dataset_url)\n",
    "import numpy as np\n",
    "# Drop missing or non-positive values to avoid log(0) or log(-x) errors\n",
    "df = df[df['ConvertedCompYearly'].notna()]\n",
    "df = df[df['ConvertedCompYearly'] > 0]\n",
    "\n",
    "# Apply natural log transformation\n",
    "df['ConvertedCompYearly_Log'] = np.log(df['ConvertedCompYearly'])\n",
    "\n",
    "# Show transformed values\n",
    "print(\"Log-transformation applied to 'ConvertedCompYearly':\")\n",
    "print(df[['ConvertedCompYearly', 'ConvertedCompYearly_Log']].head())"
   ]
  },
  {
   "cell_type": "markdown",
   "metadata": {},
   "source": [
    "### 7. Feature Engineering\n"
   ]
  },
  {
   "cell_type": "markdown",
   "metadata": {},
   "source": [
    "<h5>7.1 Create a new column `ExperienceLevel` based on the `YearsCodePro` column:</h5>\n"
   ]
  },
  {
   "cell_type": "code",
   "execution_count": 16,
   "metadata": {},
   "outputs": [
    {
     "name": "stdout",
     "output_type": "stream",
     "text": [
      "'ExperienceLevel' column created based on 'YearsCodePro':\n",
      "   YearsCodePro ExperienceLevel\n",
      "0           NaN             NaN\n",
      "1          17.0          Expert\n",
      "2          27.0          Expert\n",
      "3           NaN             NaN\n",
      "4           NaN             NaN\n"
     ]
    }
   ],
   "source": [
    "## Write your code here\n",
    "# Replace string values and convert to float\n",
    "df['YearsCodePro'] = df['YearsCodePro'].replace({\n",
    "    'Less than 1 year': '0.5',\n",
    "    'More than 50 years': '51'\n",
    "})\n",
    "df['YearsCodePro'] = pd.to_numeric(df['YearsCodePro'], errors='coerce')\n",
    "\n",
    "# Create ExperienceLevel column based on numeric ranges\n",
    "def map_experience(years):\n",
    "    if pd.isna(years):\n",
    "        return np.nan\n",
    "    elif years <= 2:\n",
    "        return 'Beginner'\n",
    "    elif years <= 5:\n",
    "        return 'Intermediate'\n",
    "    elif years <= 10:\n",
    "        return 'Experienced'\n",
    "    else:\n",
    "        return 'Expert'\n",
    "\n",
    "df['ExperienceLevel'] = df['YearsCodePro'].apply(map_experience)\n",
    "\n",
    "# Display the new column\n",
    "print(\"'ExperienceLevel' column created based on 'YearsCodePro':\")\n",
    "print(df[['YearsCodePro', 'ExperienceLevel']].head())"
   ]
  },
  {
   "cell_type": "markdown",
   "metadata": {},
   "source": [
    "### Summary\n"
   ]
  },
  {
   "cell_type": "markdown",
   "metadata": {},
   "source": [
    "In this lab, you:\n",
    "\n",
    "- Explored the dataset to identify inconsistencies and missing values.\n",
    "\n",
    "- Encoded categorical variables for analysis.\n",
    "\n",
    "- Handled missing values using imputation techniques.\n",
    "\n",
    "- Normalized and transformed numerical data to prepare it for analysis.\n",
    "\n",
    "- Engineered a new feature to enhance data interpretation.\n"
   ]
  },
  {
   "cell_type": "markdown",
   "metadata": {},
   "source": [
    "Copyright © IBM Corporation. All rights reserved.\n"
   ]
  }
 ],
 "metadata": {
  "kernelspec": {
   "display_name": "Python 3 (ipykernel)",
   "language": "python",
   "name": "python3"
  },
  "language_info": {
   "codemirror_mode": {
    "name": "ipython",
    "version": 3
   },
   "file_extension": ".py",
   "mimetype": "text/x-python",
   "name": "python",
   "nbconvert_exporter": "python",
   "pygments_lexer": "ipython3",
   "version": "3.12.8"
  },
  "prev_pub_hash": "1e8e234f19fd098e27b0518a87f18de690e1c51f1d3263d5690927d19971251e"
 },
 "nbformat": 4,
 "nbformat_minor": 4
}
